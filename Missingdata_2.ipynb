{
  "nbformat": 4,
  "nbformat_minor": 0,
  "metadata": {
    "colab": {
      "provenance": []
    },
    "kernelspec": {
      "name": "python3",
      "display_name": "Python 3"
    },
    "language_info": {
      "name": "python"
    }
  },
  "cells": [
    {
      "cell_type": "markdown",
      "source": [
        "\n",
        "\n",
        "```\n",
        "# This is formatted as code\n",
        "```\n",
        "\n",
        "# Missing content(fill)"
      ],
      "metadata": {
        "id": "VnyQzw5-i4mX"
      }
    },
    {
      "cell_type": "code",
      "execution_count": null,
      "metadata": {
        "id": "2TQSAEMzidC2"
      },
      "outputs": [],
      "source": [
        "import pandas as pd\n",
        "import seaborn as sns\n",
        "import matplotlib.pyplot as plt"
      ]
    },
    {
      "cell_type": "code",
      "source": [
        "df = pd.read_csv('loan.csv')"
      ],
      "metadata": {
        "id": "8iZFiQxVj-y5"
      },
      "execution_count": null,
      "outputs": []
    },
    {
      "cell_type": "code",
      "source": [
        "df.shape"
      ],
      "metadata": {
        "id": "2RBqddp9kCHY"
      },
      "execution_count": null,
      "outputs": []
    },
    {
      "cell_type": "code",
      "source": [
        "#fill korbo\n",
        "#df.fillna(10)"
      ],
      "metadata": {
        "id": "DoVYOkzakJWb"
      },
      "execution_count": null,
      "outputs": []
    },
    {
      "cell_type": "code",
      "source": [
        "# data 2 type: Numerical, Categorical ; ctaegorical = mode diye fill kora, backward filling, forward filling"
      ],
      "metadata": {
        "id": "8yPCW-IlmxGU"
      },
      "execution_count": null,
      "outputs": []
    },
    {
      "cell_type": "code",
      "source": [
        "#kon data numerical and kon data categorical\n",
        "df.info()"
      ],
      "metadata": {
        "id": "yGeFH9tQmkSc"
      },
      "execution_count": null,
      "outputs": []
    },
    {
      "cell_type": "markdown",
      "source": [
        "# Backward Filling"
      ],
      "metadata": {
        "id": "ZYh3XIlnnP12"
      }
    },
    {
      "cell_type": "code",
      "source": [
        "df.fillna(method=\"bfill\",axis=1)"
      ],
      "metadata": {
        "id": "i8cxGgQynXGA"
      },
      "execution_count": null,
      "outputs": []
    },
    {
      "cell_type": "markdown",
      "source": [
        "# Forward filling"
      ],
      "metadata": {
        "id": "f4PopFS9nYOH"
      }
    },
    {
      "cell_type": "code",
      "source": [
        "df.fillna(method=\"ffill\",axis=1)"
      ],
      "metadata": {
        "id": "PCWcLKe_nb2f"
      },
      "execution_count": null,
      "outputs": []
    },
    {
      "cell_type": "markdown",
      "source": [
        "# Mode filling"
      ],
      "metadata": {
        "id": "VzFBzO6SneGX"
      }
    },
    {
      "cell_type": "code",
      "source": [
        "#particular column e kora jay (1ta column e) : Catgorical datar jnno\n",
        "#df['Gender'].mode()\n",
        "df['Gender'].mode()[0]"
      ],
      "metadata": {
        "id": "3K7r7AE-nhpn"
      },
      "execution_count": null,
      "outputs": []
    },
    {
      "cell_type": "code",
      "source": [
        "#inplace=True, the changes will be applied directly to the dataset.\n",
        "df['Gender'].fillna(df['Gender'].mode()[0],inplace=True)"
      ],
      "metadata": {
        "id": "FSQtxAevrDCV"
      },
      "execution_count": null,
      "outputs": []
    },
    {
      "cell_type": "code",
      "source": [
        "df"
      ],
      "metadata": {
        "id": "AdM0DHgMrmcN"
      },
      "execution_count": null,
      "outputs": []
    },
    {
      "cell_type": "code",
      "source": [
        "#all object datatype er upor mode fill korbo\n",
        "df.select_dtypes(include=\"object\")"
      ],
      "metadata": {
        "id": "9u8LKGBOrqAq"
      },
      "execution_count": null,
      "outputs": []
    },
    {
      "cell_type": "code",
      "source": [
        "df.select_dtypes(include=\"object\").isnull().sum()"
      ],
      "metadata": {
        "id": "K-eSyzats3qe"
      },
      "execution_count": null,
      "outputs": []
    },
    {
      "cell_type": "code",
      "source": [
        "#Categorcal data r joto column ache\n",
        "for i in df.select_dtypes(include=\"object\").columns:\n",
        "  print(i)"
      ],
      "metadata": {
        "id": "gd_9-W9itIyo"
      },
      "execution_count": null,
      "outputs": []
    },
    {
      "cell_type": "code",
      "source": [
        "#joto categorical data ache shb mode diye fill korbe\n",
        "for i in df.select_dtypes(include=\"object\").columns:\n",
        "  df[i].fillna(df['Gender'].mode()[0],inplace=True)"
      ],
      "metadata": {
        "id": "nMO2a0jRuDlr"
      },
      "execution_count": null,
      "outputs": []
    },
    {
      "cell_type": "code",
      "source": [
        "df.isnull().sum()"
      ],
      "metadata": {
        "id": "J-7Jk-7JuWBR"
      },
      "execution_count": null,
      "outputs": []
    },
    {
      "cell_type": "markdown",
      "source": [
        "# Missing values(Skicit-learn)"
      ],
      "metadata": {
        "id": "lnvkUfpzxxbg"
      }
    },
    {
      "cell_type": "code",
      "source": [
        "#data type ber korte\n",
        "df.info()"
      ],
      "metadata": {
        "id": "ZfM_x6v_1g8P"
      },
      "execution_count": null,
      "outputs": []
    },
    {
      "cell_type": "code",
      "source": [
        "#numerical value jei column e ache seta ber kora\n",
        "df.select_dtypes(include=\"float64\").columns"
      ],
      "metadata": {
        "id": "Dbn-IUgXurbq"
      },
      "execution_count": null,
      "outputs": []
    },
    {
      "cell_type": "code",
      "source": [
        "from sklearn.impute import SimpleImputer"
      ],
      "metadata": {
        "id": "hgZWm95c1nrV"
      },
      "execution_count": null,
      "outputs": []
    },
    {
      "cell_type": "code",
      "source": [
        "#mean diye fill up kora\n",
        "si = SimpleImputer(strategy=\"mean\")\n",
        "#si.fit_transform(df[['CoapplicantIncome', 'LoanAmount', 'Loan_Amount_Term','Credit_History']])  -->array type value e dibe\n",
        "ar = si.fit_transform(df[['CoapplicantIncome', 'LoanAmount', 'Loan_Amount_Term',\n",
        "       'Credit_History']])"
      ],
      "metadata": {
        "id": "wvaf0Vp74fPR"
      },
      "execution_count": null,
      "outputs": []
    },
    {
      "cell_type": "code",
      "source": [
        "#check korbo j asholei fill hoise kina\n",
        "pd.DataFrame(ar,columns=df.select_dtypes(include=\"float64\").columns)"
      ],
      "metadata": {
        "id": "zppRxNqF45W5"
      },
      "execution_count": null,
      "outputs": []
    },
    {
      "cell_type": "code",
      "source": [
        "#new dataframe e rakhbo eta niye kaj korbo\n",
        "new_df = pd.DataFrame(ar,columns=df.select_dtypes(include=\"float64\").columns)"
      ],
      "metadata": {
        "id": "2A8KsCUM5QAC"
      },
      "execution_count": null,
      "outputs": []
    },
    {
      "cell_type": "code",
      "source": [
        "new_df.isnull().sum()"
      ],
      "metadata": {
        "id": "F_G8o0fA52bC"
      },
      "execution_count": null,
      "outputs": []
    },
    {
      "cell_type": "code",
      "source": [
        "new_df"
      ],
      "metadata": {
        "id": "mVw1Z9q259f7"
      },
      "execution_count": null,
      "outputs": []
    },
    {
      "cell_type": "code",
      "source": [
        "#loan amount er 1st value asholei mean diye fill hoise kina check kortese and yes it is 146\n",
        "df[\"LoanAmount\"].mean()"
      ],
      "metadata": {
        "id": "CRWZ3aFR6DIJ"
      },
      "execution_count": null,
      "outputs": []
    },
    {
      "cell_type": "code",
      "source": [
        "#evabe mean, median, constant data diye fill kora jay. eta lage jokhn machine learning er pipiline er time e"
      ],
      "metadata": {
        "id": "WD791gYn7uuV"
      },
      "execution_count": null,
      "outputs": []
    },
    {
      "cell_type": "code",
      "source": [
        "#https://colab.research.google.com/drive/12nZrJrBiuqy5IsAea-S6IApiBdKBYrXt?usp=sharing"
      ],
      "metadata": {
        "id": "geJxk7fx8Uqd"
      },
      "execution_count": null,
      "outputs": []
    },
    {
      "cell_type": "code",
      "source": [],
      "metadata": {
        "id": "e420V2Yh-jhT"
      },
      "execution_count": 93,
      "outputs": []
    }
  ]
}